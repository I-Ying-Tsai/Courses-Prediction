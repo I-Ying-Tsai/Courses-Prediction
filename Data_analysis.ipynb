{
 "cells": [
  {
   "cell_type": "code",
   "execution_count": 4,
   "id": "4e9f6522-78cc-4424-89b5-fafe2312dfbb",
   "metadata": {},
   "outputs": [
    {
     "name": "stdout",
     "output_type": "stream",
     "text": [
      "資料集的形狀: (888, 12)\n",
      "欄位名稱: ['學年期', '系所名稱', '科目名稱(連結課程地圖)             備註 \\n             限選條件', '教師姓名*:主負責老師', '已選課人數/餘額', '系所名稱_label', '學分', '必選修', '時間', '教室', '類別_實習', '類別_講義']\n",
      "前20筆資料:\n",
      "       學年期      系所名稱 科目名稱(連結課程地圖)             備註 \\n             限選條件  \\\n",
      "0   0108-2  數學系 MATH                                          微積分（二）   \n",
      "1   0108-2  數學系 MATH                                         線性代數（二）   \n",
      "2   0108-2  數學系 MATH                                        普通物理學（二）   \n",
      "3   0108-2  數學系 MATH                                      計算機概論與程式語言   \n",
      "4   0108-2  數學系 MATH                                        高等微積分（二）   \n",
      "5   0108-2  數學系 MATH                                        高等微積分（二）   \n",
      "6   0108-2  數學系 MATH                                          代數學（一）   \n",
      "7   0108-2  數學系 MATH                                          微分方程導論   \n",
      "8   0108-2  數學系 MATH                                          幾何學（一）   \n",
      "9   0108-2  數學系 MATH                                            應用分析   \n",
      "10  0108-2  數學系 MATH                                          複變數函數論   \n",
      "11  0108-2  數學系 MATH                                      數據科學裡的矩陣方法   \n",
      "12  0108-2  數學系 MATH                                         伽羅瓦理論入門   \n",
      "13  0108-2  數學系 MATH                                        傅立葉分析與應用   \n",
      "14  0108-2  數學系 MATH                                          科學計算導論   \n",
      "15  0108-2  數學系 MATH                                            計算代數   \n",
      "16  0109-1  數學系 MATH                                          微積分（一）   \n",
      "17  0109-1  數學系 MATH                                            數學導論   \n",
      "18  0109-1  數學系 MATH                                        普通物理學（一）   \n",
      "19  0109-1  數學系 MATH                                         線性代數（一）   \n",
      "\n",
      "   教師姓名*:主負責老師 已選課人數/餘額  系所名稱_label  學分  必選修             時間               教室  \\\n",
      "0          林育竹   454/16           0   4   必修  [1]2~3,[3]5~6     理學教學大樓 36202   \n",
      "1          劉珈銘   647/13           0   3   必修    [3]2,[5]3~4      資訊大樓 格致廳小講堂   \n",
      "2          游輝樟    54/16           0   3   必修    [2]3~4,[4]2        數學系館 3172   \n",
      "3          沈士育    57/13           0   3   必修    [3]7~8,[5]2        數學系館 3172   \n",
      "4          劉育佑     42/8           0   4   必修  [1]5~6,[3]3~4        數學系館 3172   \n",
      "5          陳若淳   35/145           0   4   必修  [1]5~6,[3]3~4        數學系館 3174   \n",
      "6          章源慶   654/25           0   3   必修    [2]3~4,[4]2     理學教學大樓 36202   \n",
      "7          李國明   446/24           0   3   必修    [2]2,[4]3~4  共同教室 A1306(資源後)   \n",
      "8          劉珈銘    54/48           0   3   選修    [2]5~6,[4]6        數學系館 3173   \n",
      "9          林育竹    29/21           0   3   選修    [3]8,[5]5~6        數學系館 3173   \n",
      "10         陳若淳     49/1           0   3   選修    [3]2,[5]3~4        數學系館 3174   \n",
      "11         王辰樹    18/17           0   3   選修    [1]8,[4]5~6        數學系館 3175   \n",
      "12         柯文峰     9/26           0   3   選修    [1]5~6,[3]7        數學系館 3175   \n",
      "13         關汝琳   422/13           0   3   選修    [2]3~4,[4]2        數學系館 3173   \n",
      "14         林敏雄    23/12           0   3   選修    [2]2,[4]3~4        數學系館 3172   \n",
      "15         蕭仁傑    20/15           0   3   選修    [2]3~4,[4]2        數學系館 3175   \n",
      "16         史習偉    69/16           0   4   必修  [1]2~3,[3]5~6     理學教學大樓 36102   \n",
      "17         林育竹    73/27           0   3   必修    [3]7,[5]1~2     理學教學大樓 36102   \n",
      "18         游輝樟   564/15           0   3   必修    [2]3~4,[4]2        數學系館 3172   \n",
      "19         賴青瑞   37/413           0   3   必修    [3]2,[5]3~4        數學系館 3172   \n",
      "\n",
      "    類別_實習  類別_講義  \n",
      "0   False   True  \n",
      "1   False   True  \n",
      "2   False   True  \n",
      "3   False   True  \n",
      "4   False   True  \n",
      "5   False   True  \n",
      "6   False   True  \n",
      "7   False   True  \n",
      "8   False   True  \n",
      "9   False   True  \n",
      "10  False   True  \n",
      "11  False   True  \n",
      "12  False   True  \n",
      "13  False   True  \n",
      "14  False   True  \n",
      "15  False   True  \n",
      "16  False   True  \n",
      "17  False   True  \n",
      "18  False   True  \n",
      "19  False   True  \n",
      "所有課程名稱已保存到: course_names.txt\n"
     ]
    }
   ],
   "source": [
    "import pandas as pd\n",
    "\n",
    "# 讀取已清理的資料\n",
    "file_path = 'cleaned_course_data.csv'\n",
    "data = pd.read_csv(file_path)\n",
    "\n",
    "# 打印資料集的形狀和欄位名稱\n",
    "print(\"資料集的形狀:\", data.shape)\n",
    "print(\"欄位名稱:\", data.columns.tolist())\n",
    "\n",
    "# 打印前20筆資料\n",
    "print(\"前20筆資料:\")\n",
    "print(data.head(20))\n",
    "\n",
    "# 拉取所有課程名稱並保存到文件\n",
    "course_names = data['科目名稱(連結課程地圖)             備註 \\n             限選條件'].drop_duplicates()\n",
    "output_file = 'course_names.txt'\n",
    "course_names.to_csv(output_file, index=False, header=False)\n",
    "print(f\"所有課程名稱已保存到: {output_file}\")\n"
   ]
  },
  {
   "cell_type": "code",
   "execution_count": 13,
   "id": "9b40368b-d2a2-4df3-bb5b-3b4e29b2a84b",
   "metadata": {},
   "outputs": [
    {
     "name": "stdout",
     "output_type": "stream",
     "text": [
      "當前課程: 微積分（二）\n"
     ]
    },
    {
     "data": {
      "application/vnd.jupyter.widget-view+json": {
       "model_id": "7f61b208c02e413c9fe3f8c72c1d0966",
       "version_major": 2,
       "version_minor": 0
      },
      "text/plain": [
       "VBox(children=(Checkbox(value=False, description='數學'), Checkbox(value=False, description='統計'), Checkbox(valu…"
      ]
     },
     "metadata": {},
     "output_type": "display_data"
    },
    {
     "data": {
      "application/vnd.jupyter.widget-view+json": {
       "model_id": "7991ae27e3e04e5fa66e868dc24381d6",
       "version_major": 2,
       "version_minor": 0
      },
      "text/plain": [
       "Button(description='更新特徵', style=ButtonStyle())"
      ]
     },
     "metadata": {},
     "output_type": "display_data"
    },
    {
     "data": {
      "application/vnd.jupyter.widget-view+json": {
       "model_id": "228bc1aced2b44c5aac53e5eb63f1f11",
       "version_major": 2,
       "version_minor": 0
      },
      "text/plain": [
       "Output()"
      ]
     },
     "metadata": {},
     "output_type": "display_data"
    },
    {
     "data": {
      "application/vnd.jupyter.widget-view+json": {
       "model_id": "c54b9e592fc84d929172df73d2fa81de",
       "version_major": 2,
       "version_minor": 0
      },
      "text/plain": [
       "Button(description='保存資料', style=ButtonStyle())"
      ]
     },
     "metadata": {},
     "output_type": "display_data"
    }
   ],
   "source": [
    "import pandas as pd\n",
    "import re\n",
    "import ipywidgets as widgets\n",
    "from IPython.display import display, clear_output\n",
    "\n",
    "# 讀取已清理的資料\n",
    "file_path = 'cleaned_course_data.csv'\n",
    "data = pd.read_csv(file_path)\n",
    "\n",
    "# 打印資料集的形狀和欄位名稱\n",
    "print(\"資料集的形狀:\", data.shape)\n",
    "print(\"欄位名稱:\", data.columns.tolist())\n",
    "\n",
    "# 拉取所有課程名稱\n",
    "course_names = data['科目名稱(連結課程地圖)             備註 \\n             限選條件'].drop_duplicates().tolist()\n",
    "\n",
    "# 優化後的關鍵字與特徵映射\n",
    "keywords = {\n",
    "    '數學': ['數學', '微積分', '代數', '幾何', '分析'],\n",
    "    '統計': ['統計', '分析', '機率', '貝氏', '時間數列'],\n",
    "    '電腦科學': ['計算機', '電腦', '程式', '演算法', '資料結構', '深度學習', '機器學習'],\n",
    "    '電機工程': ['電路', '電機', '電磁'],\n",
    "    '測量': ['測量', '地圖', '定位'],\n",
    "    '土木': ['結構', '土木', '工程', '建築']\n",
    "}\n",
    "\n",
    "# 初始化新特徵\n",
    "def initialize_features(data, keywords):\n",
    "    for feature in keywords.keys():\n",
    "        data[feature] = False\n",
    "    return data\n",
    "\n",
    "data = initialize_features(data, keywords)\n",
    "\n",
    "# 定義逐行互動界面\n",
    "current_index = 0\n",
    "output = widgets.Output()\n",
    "\n",
    "# 定義更新特徵的函數\n",
    "def update_features(change):\n",
    "    global current_index\n",
    "    selected_course = course_names[current_index]\n",
    "    selected_features = [key for key, checkbox in feature_checkboxes.items() if checkbox.value]\n",
    "    with output:\n",
    "        if selected_course:\n",
    "            data.loc[data['科目名稱(連結課程地圖)             備註 \\n             限選條件'] == selected_course, selected_features] = True\n",
    "            print(f\"已更新課程: {selected_course} 的特徵: {selected_features}\")\n",
    "        else:\n",
    "            print(\"無有效課程名稱。\")\n",
    "        # 清除選項並顯示下一課程\n",
    "        for checkbox in feature_checkboxes.values():\n",
    "            checkbox.value = False\n",
    "        current_index += 1\n",
    "        if current_index < len(course_names):\n",
    "            display_next_course()\n",
    "        else:\n",
    "            print(\"所有課程已處理完成！\")\n",
    "\n",
    "def display_next_course():\n",
    "    clear_output()\n",
    "    if current_index < len(course_names):\n",
    "        selected_course = course_names[current_index]\n",
    "        print(f\"當前課程: {selected_course}\")\n",
    "        display(widgets.VBox(list(feature_checkboxes.values())))\n",
    "        display(update_button)\n",
    "        display(output)\n",
    "    else:\n",
    "        print(\"所有課程已處理完成！\")\n",
    "\n",
    "# 初始化互動界面\n",
    "feature_checkboxes = {key: widgets.Checkbox(value=False, description=key) for key in keywords.keys()}\n",
    "update_button = widgets.Button(description=\"更新特徵\")\n",
    "update_button.on_click(update_features)\n",
    "\n",
    "# 顯示第一個課程\n",
    "display_next_course()\n",
    "\n",
    "# 保存更新後的資料\n",
    "def save_data():\n",
    "    selected_data = data.loc[:, ['科目名稱(連結課程地圖)             備註 \\n             限選條件'] + list(keywords.keys())]\n",
    "    selected_file = 'selected_features_data.csv'\n",
    "    selected_data.to_csv(selected_file, index=False)\n",
    "    print(f\"包含新特徵的資料已保存到: {selected_file}\")\n",
    "\n",
    "save_button = widgets.Button(description=\"保存資料\")\n",
    "save_button.on_click(lambda x: save_data())\n",
    "display(save_button)\n"
   ]
  },
  {
   "cell_type": "code",
   "execution_count": null,
   "id": "faecacd0-e0da-456b-9757-7c4f801d2a2a",
   "metadata": {},
   "outputs": [],
   "source": []
  },
  {
   "cell_type": "code",
   "execution_count": null,
   "id": "e5689835-d7e1-4380-bca7-7e4782e005a0",
   "metadata": {},
   "outputs": [],
   "source": []
  }
 ],
 "metadata": {
  "kernelspec": {
   "display_name": "Python 3 (ipykernel)",
   "language": "python",
   "name": "python3"
  },
  "language_info": {
   "codemirror_mode": {
    "name": "ipython",
    "version": 3
   },
   "file_extension": ".py",
   "mimetype": "text/x-python",
   "name": "python",
   "nbconvert_exporter": "python",
   "pygments_lexer": "ipython3",
   "version": "3.12.2"
  }
 },
 "nbformat": 4,
 "nbformat_minor": 5
}
